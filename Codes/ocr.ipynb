{
 "cells": [
  {
   "cell_type": "code",
   "execution_count": 52,
   "metadata": {},
   "outputs": [],
   "source": [
    "import cv2\n",
    "import imutils\n",
    "import pytesseract\n",
    "from matplotlib.pyplot import imshow, show, subplot, title, get_cmap\n",
    "from skimage.color import rgb2gray, gray2rgb, rgb2hsv, rgb2lab, lab2rgb\n"
   ]
  },
  {
   "cell_type": "code",
   "execution_count": 53,
   "metadata": {},
   "outputs": [
    {
     "data": {
      "text/plain": [
       "<matplotlib.image.AxesImage at 0x1a105de6d40>"
      ]
     },
     "execution_count": 53,
     "metadata": {},
     "output_type": "execute_result"
    },
    {
     "data": {
      "image/png": "[encoded data removed]",
      "text/plain": [
       "<Figure size 640x480 with 1 Axes>"
      ]
     },
     "metadata": {},
     "output_type": "display_data"
    }
   ],
   "source": [
    "carImage = cv2.imread(\"../Codes/plate.png\")\n",
    "_ , carImage = cv2.threshold(carImage,100,255,cv2.THRESH_BINARY)\n",
    "imshow(carImage)\n"
   ]
  },
  {
   "cell_type": "code",
   "execution_count": 54,
   "metadata": {},
   "outputs": [
    {
     "name": "stdout",
     "output_type": "stream",
     "text": [
      "License Plate: H9B2FKL\n",
      "\n"
     ]
    }
   ],
   "source": [
    "# Assuming you have imported the necessary libraries and have the 'carImage' variable containing the license plate image.\n",
    "\n",
    "# Perform some pre-processing on the image\n",
    "gray_img = cv2.cvtColor(carImage, cv2.COLOR_BGR2GRAY)\n",
    "gray_img = cv2.threshold(gray_img, 0, 255, cv2.THRESH_BINARY | cv2.THRESH_OTSU)[1]\n",
    "\n",
    "# Find contours in the image\n",
    "contours, _ = cv2.findContours(gray_img, cv2.RETR_EXTERNAL, cv2.CHAIN_APPROX_SIMPLE)\n",
    "\n",
    "# Sort the contours by their x-coordinate\n",
    "contours = sorted(contours, key=lambda ctr: cv2.boundingRect(ctr)[0])\n",
    "\n",
    "# Initialize an empty string to store the license plate characters\n",
    "license_plate = \"\"\n",
    "\n",
    "# Loop through each contour and perform OCR\n",
    "for contour in contours:\n",
    "    # Get the bounding rectangle of the contour\n",
    "    x, y, w, h = cv2.boundingRect(contour)\n",
    "    \n",
    "    # Extract the character region from the image\n",
    "    character_img = gray_img[y:y+h, x:x+w]\n",
    "    pytesseract.pytesseract.tesseract_cmd = r'C:\\Program Files\\Tesseract-OCR\\tesseract.exe'\n",
    "\n",
    "    # Perform OCR using Tesseract\n",
    "    character = pytesseract.image_to_string(character_img, config='--psm 10 --oem 3 -c tessedit_char_whitelist=ABCDEFGHIJKLMNOPQRSTUVWXYZ0123456789')\n",
    "    \n",
    "    # Append the recognized character to the license plate string\n",
    "    license_plate += character\n",
    "\n",
    "# Print the license plate\n",
    "print(\"License Plate:\", license_plate)"
   ]
  }
 ],
 "metadata": {
  "kernelspec": {
   "display_name": "Python 3 (ipykernel)",
   "language": "python",
   "name": "python3"
  },
  "language_info": {
   "codemirror_mode": {
    "name": "ipython",
    "version": 3
   },
   "file_extension": ".py",
   "mimetype": "text/x-python",
   "name": "python",
   "nbconvert_exporter": "python",
   "pygments_lexer": "ipython3",
   "version": "3.10.10"
  }
 },
 "nbformat": 4,
 "nbformat_minor": 2
}
